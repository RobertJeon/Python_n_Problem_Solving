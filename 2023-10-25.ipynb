{
 "cells": [
  {
   "cell_type": "code",
   "execution_count": 1,
   "id": "0a23be5a",
   "metadata": {},
   "outputs": [
    {
     "name": "stdout",
     "output_type": "stream",
     "text": [
      "002\n"
     ]
    }
   ],
   "source": [
    "print(\"2\".rjust(3, \"0\"))"
   ]
  },
  {
   "cell_type": "code",
   "execution_count": 2,
   "id": "d995878d",
   "metadata": {},
   "outputs": [
    {
     "name": "stdout",
     "output_type": "stream",
     "text": [
      "50000\n"
     ]
    }
   ],
   "source": [
    "print(\"50000\".rjust(5,\"0\"))"
   ]
  },
  {
   "cell_type": "code",
   "execution_count": null,
   "id": "49a6087d",
   "metadata": {},
   "outputs": [],
   "source": []
  },
  {
   "cell_type": "code",
   "execution_count": null,
   "id": "253343e1",
   "metadata": {},
   "outputs": [],
   "source": []
  },
  {
   "cell_type": "code",
   "execution_count": null,
   "id": "0e64cc80",
   "metadata": {},
   "outputs": [],
   "source": []
  },
  {
   "cell_type": "code",
   "execution_count": null,
   "id": "11bac966",
   "metadata": {},
   "outputs": [],
   "source": []
  },
  {
   "cell_type": "code",
   "execution_count": 3,
   "id": "fe7dbdf2",
   "metadata": {},
   "outputs": [
    {
     "data": {
      "text/plain": [
       "False"
      ]
     },
     "execution_count": 3,
     "metadata": {},
     "output_type": "execute_result"
    }
   ],
   "source": [
    "import copy\n",
    "list_var = [[1,2],[3,4]]\n",
    "list_var_deepcopy = copy.deepcopy(list_var)\n",
    "list_var_copy = list_var.copy()\n",
    "\n",
    "id(list_var) == id(list_var_copy)\n"
   ]
  },
  {
   "cell_type": "code",
   "execution_count": 33,
   "id": "1b81953f",
   "metadata": {},
   "outputs": [
    {
     "name": "stdout",
     "output_type": "stream",
     "text": [
      "Hello Woeld World"
     ]
    }
   ],
   "source": [
    "\"\"\"\n",
    "파이썬 첫 번째 print() 를 활용해서 출력을 진행해 봅시다.\n",
    "\n",
    "# 첫번째 예시\n",
    "\n",
    "print(\"Hello World\")\n",
    "\n",
    "# 두번째 예시\n",
    "\n",
    "a = \"Hello World\"\n",
    "a\n",
    "\"\"\"\n",
    "\n",
    "# 출력 - 아래에 print문을 작성합니다.\n",
    "\n",
    "\n",
    "# 터미널에서 해당 파일이 있는 폴더로 이동하여 \"python print_.py\" 라고 입력해보세요.\n",
    "\n",
    "a= \"World\"\n",
    "\n",
    "print(\"Hello Woeld\", end = ' ' + a)\n",
    "\n",
    "\n"
   ]
  },
  {
   "cell_type": "code",
   "execution_count": 46,
   "id": "2f58acab",
   "metadata": {
    "scrolled": true
   },
   "outputs": [
    {
     "name": "stdout",
     "output_type": "stream",
     "text": [
      "False\n",
      "ohh\n"
     ]
    }
   ],
   "source": [
    "\"\"\"\n",
    "조건문\n",
    "if-else문\n",
    "    if 조건식:\n",
    "\t    조건식의 결과가 참(True)일 때만 실행되는 명령문\n",
    "    else:\n",
    "        조건식의 결과가 거짓(False)일 때만 실행되는 명령문\n",
    "\n",
    "if문은 단독으로도 사용할 수 있지만, else 문은 반드시 if문과 함께 사용해야 합니다.\n",
    "\n",
    "\"\"\"\n",
    "\n",
    "# n = 3\n",
    "n = 1\n",
    "\n",
    "if n>2:\n",
    "  print(True)\n",
    "else:\n",
    "  print(False)\n",
    "\n",
    "\n",
    "\"\"\"\n",
    "if-elif-else문\n",
    "\n",
    "    if 조건식1:\n",
    "      조건식1의 결과가 참(True)일 때만 실행되는 명령문\n",
    "    elif 조건식2:\n",
    "      조건식2의 결과가 참(True)일 때만 실행되는 명령문\n",
    "    else:\n",
    "      조건식의 결과가 거짓(False)일 때만 실행되는 명령문\n",
    "\"\"\"\n",
    "\n",
    "n = 10\n",
    "# n = 0\n",
    "\n",
    "if n > 10:\n",
    "    print(True)\n",
    "elif n > 13:\n",
    "    print (\"Yqp\")\n",
    "else:\n",
    "    print (\"ohh\")\n",
    "\n",
    "\n",
    "\n"
   ]
  },
  {
   "cell_type": "code",
   "execution_count": 49,
   "id": "46469724",
   "metadata": {},
   "outputs": [
    {
     "name": "stdout",
     "output_type": "stream",
     "text": [
      "55\n"
     ]
    }
   ],
   "source": [
    "\"\"\"\n",
    "while문\n",
    "\n",
    "    while 조건식:\n",
    "      조건식의 결과가 참(True)인 동안 반복적으로 실행되는 명령문\n",
    "\n",
    "조건식의 결과가 언제나 참이라면 무한 루프에 빠질 수 있습니다.\n",
    "\"\"\"\n",
    "\n",
    "# while 문으로 1~10 까지의 합을 구해봅시다.\n",
    "\n",
    "a = 0\n",
    "i = 0\n",
    "\n",
    "while i < 11 :\n",
    "    a += i   #a = a + 1\n",
    "    i += 1\n",
    "    \n",
    "print(a)"
   ]
  },
  {
   "cell_type": "code",
   "execution_count": 53,
   "id": "b85050f2",
   "metadata": {},
   "outputs": [
    {
     "name": "stdout",
     "output_type": "stream",
     "text": [
      "55\n"
     ]
    }
   ],
   "source": [
    "\"\"\"\n",
    "for문\n",
    "\n",
    "    for 변수 in 문자열(or 튜플 or 리스트):\n",
    "      반복적으로 실행하고자 하는 명령문\n",
    "\"\"\"\n",
    "\n",
    "# for 문으로 1~10까지의 합을 구해봅시다.\n",
    "a = 0\n",
    "\n",
    "for i in range(11):\n",
    "    a += i\n",
    "\n",
    "print(a)\n",
    "    "
   ]
  },
  {
   "cell_type": "code",
   "execution_count": 72,
   "id": "3af976a8",
   "metadata": {
    "scrolled": true
   },
   "outputs": [
    {
     "name": "stdout",
     "output_type": "stream",
     "text": [
      "2 * 1 = 2\n",
      "2 * 2 = 4\n",
      "2 * 3 = 6\n",
      "2 * 4 = 8\n",
      "2 * 5 = 10\n",
      "2 * 6 = 12\n",
      "2 * 7 = 14\n",
      "2 * 8 = 16\n",
      "2 * 9 = 18\n",
      "5 4 3 2 1 발사\n"
     ]
    }
   ],
   "source": [
    "\"\"\"\n",
    "출력예시를 보고 다음 반복문들을 완성해보세요.\n",
    "\"\"\"\n",
    "\n",
    "\"\"\" 출력예시\n",
    "★\n",
    "★★\n",
    "★★★\n",
    "★★★★\n",
    "★★★★★\n",
    "★★★★★★\n",
    "★★★★★★★\n",
    "\"\"\"\n",
    "# 출력 예시 반복문\n",
    "# for i in range(1,8):\n",
    "#     print(i * \"★\")\n",
    "\n",
    "\"\"\" 문제 1\n",
    "구구단 2단\n",
    "2 * 1 = 2\n",
    "2 * 2 = 4\n",
    "2 * 3 = 6\n",
    "2 * 4 = 8\n",
    "2 * 5 = 10\n",
    "2 * 6 = 12\n",
    "2 * 7 = 14\n",
    "2 * 8 = 16\n",
    "2 * 9 = 18\n",
    "\"\"\"\n",
    "\n",
    "# 반복문\n",
    "# a = 0\n",
    "def gugudan():\n",
    "    for i in range(1,10) :\n",
    "    #     a = 2*i\n",
    "        print(\"2 *\", i, \"=\", 2*i )\n",
    "\n",
    "\n",
    "gugudan()\n",
    "\n",
    "\"\"\" 문제 2\n",
    "5 4 3 2 1 발사\n",
    "\"\"\"\n",
    "def countdown(a,b,c) :\n",
    "    for i in range( a,b,c):\n",
    "        if i==0:\n",
    "            print (\"발사\")\n",
    "        else:\n",
    "            print (i, end=\" \")\n",
    "            \n",
    "countdown(5, -1, -1)\n",
    "# 반복문"
   ]
  },
  {
   "cell_type": "code",
   "execution_count": 69,
   "id": "35d3b1eb",
   "metadata": {},
   "outputs": [
    {
     "name": "stdout",
     "output_type": "stream",
     "text": [
      "func1 출력\n",
      "0 번째 출력\n",
      "1 번째 출력\n",
      "2 번째 출력\n",
      "3 번째 출력\n"
     ]
    }
   ],
   "source": [
    "\"\"\"\n",
    "파이썬 함수 만들기\n",
    "\n",
    "def 함수명():\n",
    "    수행문장\n",
    "\n",
    "def 함수이름(매개변수1, 매개변수2):\n",
    "    수행문장1\n",
    "    수행문장2\n",
    "\"\"\"\n",
    "\n",
    "# 예시 1\n",
    "def func1():\n",
    "    print(\"func1 출력\")\n",
    "\n",
    "func1()\n",
    "# 예시 2\n",
    "def func2(n):\n",
    "    for i in range(n):\n",
    "        print(\"{} 번째 출력\".format(i))\n",
    "        \n",
    "func2(4)"
   ]
  },
  {
   "cell_type": "code",
   "execution_count": null,
   "id": "d0f99151",
   "metadata": {},
   "outputs": [],
   "source": []
  }
 ],
 "metadata": {
  "kernelspec": {
   "display_name": "Python 3 (ipykernel)",
   "language": "python",
   "name": "python3"
  },
  "language_info": {
   "codemirror_mode": {
    "name": "ipython",
    "version": 3
   },
   "file_extension": ".py",
   "mimetype": "text/x-python",
   "name": "python",
   "nbconvert_exporter": "python",
   "pygments_lexer": "ipython3",
   "version": "3.11.5"
  }
 },
 "nbformat": 4,
 "nbformat_minor": 5
}
