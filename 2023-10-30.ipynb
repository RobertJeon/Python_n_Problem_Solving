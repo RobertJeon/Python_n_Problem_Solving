{
 "cells": [
  {
   "cell_type": "code",
   "execution_count": 14,
   "id": "f0187779",
   "metadata": {},
   "outputs": [
    {
     "name": "stdout",
     "output_type": "stream",
     "text": [
      "blue\n"
     ]
    },
    {
     "data": {
      "text/plain": [
       "<__main__.Employee at 0x1f51c0f7490>"
      ]
     },
     "execution_count": 14,
     "metadata": {},
     "output_type": "execute_result"
    }
   ],
   "source": [
    "\"\"\"\n",
    "# 클래스 선언\n",
    "\n",
    "class 클래스명():\n",
    "    변수1\n",
    "    변수2\n",
    "\n",
    "    def 함수1(self, ):\n",
    "        실행할 코드\n",
    "\n",
    "    def 함수2(self, ):\n",
    "        실행할 코드\n",
    "\n",
    "\n",
    "# 객체 선언\n",
    "객체명 = 클래스명()\n",
    "\n",
    "# 객체의 메소드 호출\n",
    "# 메소드명은 클래스에서 정의한 함수명입니다.\n",
    "# 객체에서 메소드를 호출핳 때 인자는 클래스에서 정의한 함수의 인자만큼 필요합니다.\n",
    "# 단 클래스를 선언할 때 추가했던 함수의 인자 self는 필요하지 않습니다.\n",
    "객체명.메소드명()\n",
    "\"\"\"\n",
    "\n",
    "\n",
    "class Car():\n",
    "    pass\n",
    "\n",
    "my_car = Car()\n",
    "\n",
    "my_car.color = 'blue'\n",
    "\n",
    "print(my_car.color)\n",
    "\n",
    "\n",
    "\n",
    "\"\"\"\n",
    "# 상속코드\n",
    "class Person:\n",
    "    def __init__(self, name):\n",
    "        self.name = name\n",
    "        \n",
    "class Student(Person):      # Person 클래스 상속받음(name 변수를 파라미터로 재사용)\n",
    "    def study(self):\n",
    "        print (self.name + \" studies hard\")\n",
    "\n",
    "class Employee(Person):     # Person 클래스 상속받음(name 변수를 파라미터로 재사용)\n",
    "    def work(self):\n",
    "        print (self.name + \" works hard\")\n",
    "\n",
    "# object 생성\n",
    "s = Student(\"Dave\")\n",
    "e = Employee(\"David\")\n",
    "\n",
    "# object 실행\n",
    "s.study()\n",
    "e.work()\n",
    "\"\"\"\n",
    "\n",
    "\n",
    "class Person:\n",
    "    def __init__(self, name):\n",
    "        self.name = name\n",
    "        \n",
    "class Student(Person):      # Person 클래스 상속받음(name 변수를 파라미터로 재사용)\n",
    "    def study(self):\n",
    "        print(self.name + \" studies hard\")\n",
    "\n",
    "class Employee(Person):     # Person 클래스 상속받음(name 변수를 파라미터로 재사용)\n",
    "    def work(self):\n",
    "        print(self.name + \" works hard\")\n",
    "\n",
    "# s = Student(\"Dave\")\n",
    "# e = Employee(\"David\")\n",
    "\n",
    "\n",
    "Student(\"Dave\")\n",
    "Employee(\"David\")\n",
    "\n",
    "# s.study()\n",
    "# e.work()\n",
    "\n",
    "\n",
    "\n",
    "\n"
   ]
  },
  {
   "cell_type": "code",
   "execution_count": 9,
   "id": "83d6155c",
   "metadata": {},
   "outputs": [
    {
     "name": "stdout",
     "output_type": "stream",
     "text": [
      "15\n"
     ]
    },
    {
     "data": {
      "text/plain": [
       "'\\n조건 2. 추가 조건과 기본 케이스의 차이를 확인한다.\\n# 1 + sumlist([2,3,4,5])\\n# 2 + sumlist([3,4,5])\\n# 3 + sumlist([4,5])\\n# 4 + sumlist([5])\\n'"
      ]
     },
     "execution_count": 9,
     "metadata": {},
     "output_type": "execute_result"
    }
   ],
   "source": [
    "\"\"\"\n",
    "재귀 (Recursion)\n",
    "\n",
    "재귀는 함수가 자기 자신을 다시 호출하는 방식으로 문제를 해결하는 기법입니다.\n",
    "\n",
    "재귀 호출은 스택의 개념이 적용되며, 함수의 내부는 스택처럼 관리된다. (LIFO, 후입선출)\n",
    "\n",
    "단점 : 재귀를 사용하면 함수를 반복적으로 호출되는 상황이 벌어지므로, 메모리를 더 많이 사용한다.\n",
    "\"\"\"\n",
    "\n",
    "# 일반적인 반복문\n",
    "# 1~5까지의 합\n",
    "def sum_list(items):\n",
    "    sum = 0\n",
    "    for i in items:\n",
    "        sum = sum + i\n",
    "    return sum\n",
    "my_list = [1,2,3,4,5]\n",
    "print(sum_list(my_list)) # 15\n",
    "\n",
    "\n",
    "\"\"\"\n",
    "재귀의 조건\n",
    "1. base case (기본 케이스 또는 조건)가 있어야 한다.\n",
    "2. 추가 조건과 기본 케이스의 차이를 확인한다.\n",
    "3. 반드시 자기 자신(함수)를 호출해야 한다.\n",
    "\"\"\"\n",
    "\n",
    "def sum_list(items):\n",
    "    if len(items) == 1: # 조건 1. Base Case\n",
    "        return items[0]\n",
    "    else:\n",
    "        return items[0] + sum_list(items[1:])   # 조건 3. 반드시 자기 자신(함수)를 호출해야 한다.\n",
    "\n",
    "\"\"\"\n",
    "조건 2. 추가 조건과 기본 케이스의 차이를 확인한다.\n",
    "# 1 + sumlist([2,3,4,5])\n",
    "# 2 + sumlist([3,4,5])\n",
    "# 3 + sumlist([4,5])\n",
    "# 4 + sumlist([5])\n",
    "\"\"\""
   ]
  }
 ],
 "metadata": {
  "kernelspec": {
   "display_name": "Python 3 (ipykernel)",
   "language": "python",
   "name": "python3"
  },
  "language_info": {
   "codemirror_mode": {
    "name": "ipython",
    "version": 3
   },
   "file_extension": ".py",
   "mimetype": "text/x-python",
   "name": "python",
   "nbconvert_exporter": "python",
   "pygments_lexer": "ipython3",
   "version": "3.11.5"
  }
 },
 "nbformat": 4,
 "nbformat_minor": 5
}
