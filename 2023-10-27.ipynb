{
 "cells": [
  {
   "cell_type": "code",
   "execution_count": 1,
   "id": "e6e38e17",
   "metadata": {},
   "outputs": [
    {
     "name": "stdout",
     "output_type": "stream",
     "text": [
      "002\n"
     ]
    }
   ],
   "source": [
    "# \"002\"\n",
    "print(\"2\".rjust(3,\"0\"))"
   ]
  },
  {
   "cell_type": "code",
   "execution_count": 10,
   "id": "0f45e4de",
   "metadata": {},
   "outputs": [
    {
     "name": "stdout",
     "output_type": "stream",
     "text": [
      "00500\n"
     ]
    }
   ],
   "source": [
    "#\"50000\"\n",
    "print(\"500\".rjust(5,\"0\"))"
   ]
  },
  {
   "cell_type": "code",
   "execution_count": 3,
   "id": "f3b81b01",
   "metadata": {},
   "outputs": [
    {
     "name": "stdout",
     "output_type": "stream",
     "text": [
      "00123\n"
     ]
    }
   ],
   "source": [
    "#\"00123\"\n",
    "print(\"123\".rjust(5,\"0\"))"
   ]
  },
  {
   "cell_type": "code",
   "execution_count": 5,
   "id": "e5891c9f",
   "metadata": {},
   "outputs": [
    {
     "name": "stdout",
     "output_type": "stream",
     "text": [
      "aa123\n"
     ]
    }
   ],
   "source": [
    "#\"aa123\"\n",
    "print(\"123\".rjust(5,\"a\"))"
   ]
  },
  {
   "cell_type": "code",
   "execution_count": 6,
   "id": "b8afd3d1",
   "metadata": {},
   "outputs": [
    {
     "name": "stdout",
     "output_type": "stream",
     "text": [
      "002\n"
     ]
    }
   ],
   "source": [
    "#002\n",
    "print(\"2\".zfill(3))"
   ]
  },
  {
   "cell_type": "code",
   "execution_count": 9,
   "id": "b19a89f4",
   "metadata": {},
   "outputs": [
    {
     "name": "stdout",
     "output_type": "stream",
     "text": [
      "00500\n"
     ]
    }
   ],
   "source": [
    "#50000\n",
    "print(\"500\".zfill(5))"
   ]
  },
  {
   "cell_type": "code",
   "execution_count": 11,
   "id": "14d011d1",
   "metadata": {},
   "outputs": [
    {
     "name": "stdout",
     "output_type": "stream",
     "text": [
      "00123\n"
     ]
    }
   ],
   "source": [
    "#\"00123\"\n",
    "print(\"123\".zfill(5))"
   ]
  },
  {
   "cell_type": "code",
   "execution_count": 27,
   "id": "b76fa661",
   "metadata": {},
   "outputs": [
    {
     "name": "stdout",
     "output_type": "stream",
     "text": [
      "Hello, I am Jack and I am a data scientist\n",
      "e\n",
      "False\n",
      "True\n",
      "Hello, I am John and I am a data scientist\n",
      "Hello, I am Jack and I am a data scientist\n"
     ]
    }
   ],
   "source": [
    "string = \"Hello, I am Jack and I am a data scientist\"\n",
    "print(string)\n",
    "print(string[1])\n",
    "# startswith\n",
    "print(string.startswith('ello'))\n",
    "# endswith\n",
    "print(string.endswith('ntist'))\n",
    "# replace\n",
    "print(string.replace(\"Jack\", \"John\"))\n",
    "print(string)\n"
   ]
  },
  {
   "cell_type": "code",
   "execution_count": 36,
   "id": "c960398d",
   "metadata": {},
   "outputs": [
    {
     "name": "stdout",
     "output_type": "stream",
     "text": [
      "원래 변수 [[1, 2], [3, 4]]\n",
      "list_var와 list_var_deepcopy는 다른 object를 가리킨다\n",
      "원래 변수.append(5) [[1, 2], [3, 4, 5]]\n",
      "깊은복사 [[1, 2], [3, 4]]\n",
      "얕은복사 [[1, 2], [3, 4, 5]]\n",
      "list_var와 list_var_deepcopy는 다른 object를 가리킨다\n"
     ]
    }
   ],
   "source": [
    "import copy\n",
    "list_var = [[1,2],[3,4]]\n",
    "list_var_deepcopy = copy.deepcopy(list_var)\n",
    "list_var_copy = list_var.copy()\n",
    "print(\"원래 변수\",list_var)                       # 원래 변수\n",
    "if (id(list_var)==id(list_var_deepcopy)):\n",
    "    print(\"list_var와 list_var_deepcopy는 같은 memory를 가리킨다\")\n",
    "else:\n",
    "    print(\"list_var와 list_var_deepcopy는 다른 object를 가리킨다\")\n",
    "list_var[1].append(5)\n",
    "print(\"원래 변수.append(5)\",list_var)             # 원래 변수\n",
    "print(\"깊은복사\",list_var_deepcopy)               # deepcopy : append와 같은 메소드를 써도 값이 변경되지 않음\n",
    "print(\"얕은복사\",list_var_copy)                   # copy : 원본이 변경되었으므로 함께 변경됨\n",
    "if (id(list_var)==id(list_var_deepcopy)):\n",
    "    print(\"list_var와 list_var_deepcopy는 같은 memory를 가리킨다\")\n",
    "else:\n",
    "    print(\"list_var와 list_var_deepcopy는 다른 object를 가리킨다\")\n"
   ]
  },
  {
   "cell_type": "code",
   "execution_count": null,
   "id": "6187bf15",
   "metadata": {},
   "outputs": [],
   "source": [
    "# if 조건식1:\n",
    "# 조건식1의 결과가 참(True)일 때만 실행되는 명령문\n",
    "# elif 조건식2:\n",
    "# 조건식2의 결과가 참(True)일 때만 실행되는 명령문\n",
    "# else:\n",
    "# 조건식의 결과가 거짓(False)일 때만 실행되는 명령문\n"
   ]
  },
  {
   "cell_type": "code",
   "execution_count": 37,
   "id": "e3f16aab",
   "metadata": {},
   "outputs": [
    {
     "name": "stdout",
     "output_type": "stream",
     "text": [
      "그외 1 => 숫자 3과 5로 나눠지지 않음\n",
      "그외 2 => 숫자 3과 5로 나눠지지 않음\n",
      "숫자 3 => 3으로 나눠짐\n",
      "그외 4 => 숫자 3과 5로 나눠지지 않음\n",
      "숫자 5 => 5로 나눠짐\n",
      "숫자 6 => 3으로 나눠짐\n",
      "그외 7 => 숫자 3과 5로 나눠지지 않음\n",
      "그외 8 => 숫자 3과 5로 나눠지지 않음\n",
      "숫자 9 => 3으로 나눠짐\n",
      "숫자 10 => 5로 나눠짐\n"
     ]
    }
   ],
   "source": [
    "def div():\n",
    "    for i in range(1,11):\n",
    "        if i % 3 == 0: # i를 3으로 나눴을 때 나머지가 0인 경우\n",
    "            print('숫자',i, '=>','3으로 나눠짐')\n",
    "        elif i % 5 == 0: # i를 5로 나눴을 때 나머지가 0인 경우\n",
    "            print('숫자',i, '=>','5로 나눠짐')\n",
    "        else:\n",
    "            print('그외',i, '=>','숫자 3과 5로 나눠지지 않음')\n",
    "div()"
   ]
  },
  {
   "cell_type": "code",
   "execution_count": 43,
   "id": "00343036",
   "metadata": {},
   "outputs": [
    {
     "name": "stdout",
     "output_type": "stream",
     "text": [
      "5 4 3 2 1 완료\n"
     ]
    }
   ],
   "source": [
    "\"\"\" 출력예시\n",
    "5 4 3 2 1 완료\n",
    "\"\"\"\n",
    "# 재귀함수 예시1 - 카운트다운\n",
    "def countdown(n):\n",
    "    if n == 0:         # base case\n",
    "        print(\"완료\")\n",
    "    else:\n",
    "        print(n, end=' ')\n",
    "        countdown(n-1) # 재귀처리 반복적으로 자기자신을 호출\n",
    "countdown(5)\n"
   ]
  },
  {
   "cell_type": "code",
   "execution_count": null,
   "id": "ea058c29",
   "metadata": {},
   "outputs": [],
   "source": []
  }
 ],
 "metadata": {
  "kernelspec": {
   "display_name": "Python 3 (ipykernel)",
   "language": "python",
   "name": "python3"
  },
  "language_info": {
   "codemirror_mode": {
    "name": "ipython",
    "version": 3
   },
   "file_extension": ".py",
   "mimetype": "text/x-python",
   "name": "python",
   "nbconvert_exporter": "python",
   "pygments_lexer": "ipython3",
   "version": "3.11.5"
  }
 },
 "nbformat": 4,
 "nbformat_minor": 5
}
