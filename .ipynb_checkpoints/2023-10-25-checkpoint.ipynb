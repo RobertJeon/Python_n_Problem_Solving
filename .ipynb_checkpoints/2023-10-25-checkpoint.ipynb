{
 "cells": [
  {
   "cell_type": "code",
   "execution_count": 1,
   "id": "9e822895",
   "metadata": {},
   "outputs": [
    {
     "name": "stdout",
     "output_type": "stream",
     "text": [
      "002\n"
     ]
    }
   ],
   "source": [
    "print(\"2\".rjust(3, \"0\"))"
   ]
  },
  {
   "cell_type": "code",
   "execution_count": 2,
   "id": "75d5c9ad",
   "metadata": {},
   "outputs": [
    {
     "name": "stdout",
     "output_type": "stream",
     "text": [
      "50000\n"
     ]
    }
   ],
   "source": [
    "print(\"50000\".rjust(5,\"0\"))"
   ]
  },
  {
   "cell_type": "code",
   "execution_count": 3,
   "id": "efc9acad",
   "metadata": {},
   "outputs": [
    {
     "data": {
      "text/plain": [
       "False"
      ]
     },
     "execution_count": 3,
     "metadata": {},
     "output_type": "execute_result"
    }
   ],
   "source": [
    "import copy\n",
    "list_var = [[1,2],[3,4]]\n",
    "list_var_deepcopy = copy.deepcopy(list_var)\n",
    "list_var_copy = list_var.copy()\n",
    "\n",
    "id(list_var) == id(list_var_copy)\n"
   ]
  },
  {
   "cell_type": "code",
   "execution_count": 9,
   "id": "f5240171",
   "metadata": {},
   "outputs": [
    {
     "ename": "SyntaxError",
     "evalue": "invalid syntax (512990303.py, line 20)",
     "output_type": "error",
     "traceback": [
      "\u001b[1;36m  Cell \u001b[1;32mIn[9], line 20\u001b[1;36m\u001b[0m\n\u001b[1;33m    print(\"Hello Woeld\", and =\"\")\u001b[0m\n\u001b[1;37m                         ^\u001b[0m\n\u001b[1;31mSyntaxError\u001b[0m\u001b[1;31m:\u001b[0m invalid syntax\n"
     ]
    }
   ],
   "source": [
    "\"\"\"\n",
    "파이썬 첫 번째 print() 를 활용해서 출력을 진행해 봅시다.\n",
    "\n",
    "# 첫번째 예시\n",
    "\n",
    "print(\"Hello World\")\n",
    "\n",
    "# 두번째 예시\n",
    "\n",
    "a = \"Hello World\"\n",
    "a\n",
    "\"\"\"\n",
    "\n",
    "# 출력 - 아래에 print문을 작성합니다.\n",
    "\n",
    "\n",
    "# 터미널에서 해당 파일이 있는 폴더로 이동하여 \"python print_.py\" 라고 입력해보세요.\n",
    "\n",
    "\n",
    "print(\"Hello Woeld\", end =\"\")\n",
    "\n",
    "a= \"Hello World\"\n",
    "print(a)\n",
    "a\n",
    "print(a + a)\n",
    "\n"
   ]
  },
  {
   "cell_type": "code",
   "execution_count": null,
   "id": "aa495e91",
   "metadata": {},
   "outputs": [],
   "source": []
  }
 ],
 "metadata": {
  "kernelspec": {
   "display_name": "Python 3 (ipykernel)",
   "language": "python",
   "name": "python3"
  },
  "language_info": {
   "codemirror_mode": {
    "name": "ipython",
    "version": 3
   },
   "file_extension": ".py",
   "mimetype": "text/x-python",
   "name": "python",
   "nbconvert_exporter": "python",
   "pygments_lexer": "ipython3",
   "version": "3.11.5"
  }
 },
 "nbformat": 4,
 "nbformat_minor": 5
}
